{
 "cells": [
  {
   "cell_type": "code",
   "execution_count": 1,
   "metadata": {},
   "outputs": [],
   "source": [
    "import numpy as np\n",
    "import pandas as pd\n",
    "import matplotlib.pyplot as plt\n",
    "%matplotlib inline"
   ]
  },
  {
   "cell_type": "markdown",
   "metadata": {},
   "source": [
    "### Create the synthetic dataset"
   ]
  },
  {
   "cell_type": "code",
   "execution_count": 2,
   "metadata": {},
   "outputs": [],
   "source": [
    "from sklearn.datasets import make_classification\n",
    "\n",
    "\n",
    "num_columns = 20\n",
    "\n",
    "X, y = make_classification(\n",
    "    n_samples=3333,\n",
    "    n_features=num_columns,\n",
    "    n_informative=num_columns,\n",
    "    n_redundant=0,\n",
    "    n_repeated=0,\n",
    "    n_classes=2,\n",
    "    n_clusters_per_class=1,\n",
    "    flip_y=0.01,\n",
    "    class_sep=0.1,\n",
    "    hypercube=False,\n",
    "    random_state=0,\n",
    "    shuffle=True,\n",
    ")"
   ]
  },
  {
   "cell_type": "code",
   "execution_count": 3,
   "metadata": {},
   "outputs": [
    {
     "name": "stdout",
     "output_type": "stream",
     "text": [
      "Mean AUC score: 0.90\n"
     ]
    }
   ],
   "source": [
    "from xgboost import XGBClassifier\n",
    "from sklearn.model_selection import cross_val_score\n",
    "\n",
    "\n",
    "def print_cross_val_results(estimator, X, y):\n",
    "    mean_auc = np.mean(cross_val_score(estimator, X, y, n_jobs=1, scoring='roc_auc'))\n",
    "    print('Mean AUC score: {:.2f}'.format(mean_auc))\n",
    "\n",
    "\n",
    "estimator = XGBClassifier(n_jobs=-1)\n",
    "\n",
    "print_cross_val_results(estimator, X, y)"
   ]
  },
  {
   "cell_type": "code",
   "execution_count": 4,
   "metadata": {},
   "outputs": [],
   "source": [
    "X_1, X_2, X_3 = np.split(X, 3)\n",
    "y_1, y_2, y_3 = np.split(y, 3)"
   ]
  },
  {
   "cell_type": "code",
   "execution_count": 5,
   "metadata": {},
   "outputs": [
    {
     "name": "stdout",
     "output_type": "stream",
     "text": [
      "Mean AUC score: 0.88\n",
      "Mean AUC score: 0.89\n",
      "Mean AUC score: 0.89\n"
     ]
    }
   ],
   "source": [
    "for X_, y_ in zip([X_1, X_2, X_3], [y_1, y_2, y_3]):\n",
    "    print_cross_val_results(estimator, X_, y_)"
   ]
  },
  {
   "cell_type": "markdown",
   "metadata": {},
   "source": [
    "### First modification -- add random columns"
   ]
  },
  {
   "cell_type": "code",
   "execution_count": 6,
   "metadata": {},
   "outputs": [
    {
     "name": "stdout",
     "output_type": "stream",
     "text": [
      "Mean AUC score: 0.77\n"
     ]
    }
   ],
   "source": [
    "X_1_damaged = X_1[:, range(num_columns//2)]\n",
    "\n",
    "print_cross_val_results(estimator, X_1_damaged, y_1)"
   ]
  },
  {
   "cell_type": "markdown",
   "metadata": {},
   "source": [
    "### Second modification -- dimensionality reducion *via* PCA"
   ]
  },
  {
   "cell_type": "code",
   "execution_count": 7,
   "metadata": {},
   "outputs": [
    {
     "name": "stdout",
     "output_type": "stream",
     "text": [
      "Mean AUC score: 0.83\n"
     ]
    }
   ],
   "source": [
    "from sklearn.decomposition import PCA\n",
    "\n",
    "\n",
    "X_2_damaged = PCA(n_components=num_columns//2).fit_transform(X_2)\n",
    "\n",
    "print_cross_val_results(estimator, X_2_damaged, y_2)"
   ]
  },
  {
   "cell_type": "markdown",
   "metadata": {},
   "source": [
    "### Third modification -- additional noisy columns, and random rotation"
   ]
  },
  {
   "cell_type": "code",
   "execution_count": 8,
   "metadata": {},
   "outputs": [
    {
     "name": "stdout",
     "output_type": "stream",
     "text": [
      "Mean AUC score: 0.79\n"
     ]
    }
   ],
   "source": [
    "from scipy.stats import special_ortho_group\n",
    "\n",
    "\n",
    "rot_mat = special_ortho_group.rvs(num_columns, random_state=42)\n",
    "X_3_damaged = X_3.dot(rot_mat)[:, range(num_columns//2)]\n",
    "\n",
    "print_cross_val_results(estimator, X_3_damaged, y_3)"
   ]
  },
  {
   "cell_type": "code",
   "execution_count": null,
   "metadata": {},
   "outputs": [],
   "source": [
    "frames = [X_1_damaged, X_2_damaged, X_3_damaged]\n",
    "ys = [y_1, y_2, y_3]\n",
    "\n",
    "X_1_perm = X_1[:, np.random.choice(range(num_columns), num_columns)]\n",
    "frames = [X_1_damaged, X_2_damaged]\n",
    "ys = [y_1, y_2]\n",
    "\n",
    "frames = [X_2_damaged, X_3_damaged]\n",
    "ys = [y_2, y_3]"
   ]
  },
  {
   "cell_type": "markdown",
   "metadata": {},
   "source": [
    "### Applying the unifying autoencoder"
   ]
  },
  {
   "cell_type": "code",
   "execution_count": null,
   "metadata": {
    "scrolled": false
   },
   "outputs": [
    {
     "name": "stderr",
     "output_type": "stream",
     "text": [
      "/home/md/anaconda3/envs/uniae/lib/python3.6/site-packages/h5py/__init__.py:36: FutureWarning: Conversion of the second argument of issubdtype from `float` to `np.floating` is deprecated. In future, it will be treated as `np.float64 == np.dtype(float).type`.\n",
      "  from ._conv import register_converters as _register_converters\n",
      "Using TensorFlow backend.\n",
      "/home/md/anaconda3/envs/uniae/lib/python3.6/importlib/_bootstrap.py:219: RuntimeWarning: compiletime version 3.5 of module 'tensorflow.python.framework.fast_tensor_util' does not match runtime version 3.6\n",
      "  return f(*args, **kwds)\n"
     ]
    },
    {
     "name": "stdout",
     "output_type": "stream",
     "text": [
      "Mean AUC score: 0.82\n",
      "Mean AUC score: 0.81\n",
      "Mean AUC score: 0.82\n",
      "Mean AUC score: 0.83\n",
      "Mean AUC score: 0.83\n",
      "Mean AUC score: 0.83\n",
      "Mean AUC score: 0.83\n",
      "Mean AUC score: 0.81\n",
      "Mean AUC score: 0.81\n",
      "Mean AUC score: 0.83\n",
      "Mean AUC score: 0.82\n",
      "Mean AUC score: 0.83\n",
      "Mean AUC score: 0.82\n",
      "Mean AUC score: 0.82\n",
      "Mean AUC score: 0.83\n",
      "Mean AUC score: 0.83\n",
      "Mean AUC score: 0.83\n",
      "Mean AUC score: 0.83\n"
     ]
    }
   ],
   "source": [
    "from sklearn.preprocessing import StandardScaler\n",
    "from unifying_autoencoder import UnifyingAutoEncoder\n",
    "from sklearn.model_selection import train_test_split\n",
    "\n",
    "\n",
    "scaler = StandardScaler()\n",
    "scaled_frames = list(map(scaler.fit_transform, frames))\n",
    "\n",
    "inp_shapes = [frame.shape[1] for frame in scaled_frames]\n",
    "uniae = UnifyingAutoEncoder(\n",
    "    inp_shapes=inp_shapes,\n",
    "    unifying_dim=100,\n",
    "    num_neurons=40,\n",
    "    num_epochs=5,\n",
    "    num_layers=3,\n",
    ")\n",
    "\n",
    "for i in range(20):\n",
    "    undamaged_frames = uniae.unify(scaled_frames)\n",
    "    X_undamaged = np.concatenate(undamaged_frames)\n",
    "    print_cross_val_results(estimator, X_undamaged, np.concatenate(ys))\n",
    "    uniae.fit(scaled_frames, verbose=0)"
   ]
  },
  {
   "cell_type": "code",
   "execution_count": null,
   "metadata": {
    "collapsed": true
   },
   "outputs": [],
   "source": []
  }
 ],
 "metadata": {
  "kernelspec": {
   "display_name": "Python 3",
   "language": "python",
   "name": "python3"
  },
  "language_info": {
   "codemirror_mode": {
    "name": "ipython",
    "version": 3
   },
   "file_extension": ".py",
   "mimetype": "text/x-python",
   "name": "python",
   "nbconvert_exporter": "python",
   "pygments_lexer": "ipython3",
   "version": "3.6.3"
  }
 },
 "nbformat": 4,
 "nbformat_minor": 2
}
