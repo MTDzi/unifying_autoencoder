{
 "cells": [
  {
   "cell_type": "code",
   "execution_count": 1,
   "metadata": {
    "collapsed": true
   },
   "outputs": [],
   "source": [
    "import numpy as np\n",
    "import pandas as pd\n",
    "import matplotlib.pyplot as plt\n",
    "%matplotlib inline"
   ]
  },
  {
   "cell_type": "markdown",
   "metadata": {},
   "source": [
    "### Create the synthetic dataset"
   ]
  },
  {
   "cell_type": "code",
   "execution_count": 2,
   "metadata": {
    "collapsed": true
   },
   "outputs": [],
   "source": [
    "from sklearn.datasets import make_classification\n",
    "\n",
    "\n",
    "num_columns = 20\n",
    "\n",
    "X, y = make_classification(\n",
    "    n_samples=3333,\n",
    "    n_features=num_columns,\n",
    "    n_informative=num_columns,\n",
    "    n_redundant=0,\n",
    "    n_repeated=0,\n",
    "    n_classes=2,\n",
    "    n_clusters_per_class=1,\n",
    "    flip_y=0.01,\n",
    "    class_sep=0.1,\n",
    "    hypercube=False,\n",
    "    random_state=0,\n",
    "    shuffle=True,\n",
    ")"
   ]
  },
  {
   "cell_type": "code",
   "execution_count": 3,
   "metadata": {
    "collapsed": false
   },
   "outputs": [
    {
     "name": "stdout",
     "output_type": "stream",
     "text": [
      "Mean AUC score: 0.90\n"
     ]
    }
   ],
   "source": [
    "from xgboost import XGBClassifier\n",
    "from sklearn.model_selection import cross_val_score\n",
    "\n",
    "\n",
    "def print_cross_val_results(estimator, X, y):\n",
    "    mean_auc = np.mean(cross_val_score(estimator, X, y, n_jobs=1, scoring='roc_auc'))\n",
    "    print('Mean AUC score: {:.2f}'.format(mean_auc))\n",
    "\n",
    "\n",
    "estimator = XGBClassifier(n_jobs=-1)\n",
    "\n",
    "print_cross_val_results(estimator, X, y)"
   ]
  },
  {
   "cell_type": "code",
   "execution_count": 4,
   "metadata": {
    "collapsed": true
   },
   "outputs": [],
   "source": [
    "X_1, X_2, X_3 = np.split(X, 3)\n",
    "y_1, y_2, y_3 = np.split(y, 3)"
   ]
  },
  {
   "cell_type": "code",
   "execution_count": 5,
   "metadata": {
    "collapsed": false
   },
   "outputs": [
    {
     "name": "stdout",
     "output_type": "stream",
     "text": [
      "Mean AUC score: 0.88\n",
      "Mean AUC score: 0.89\n",
      "Mean AUC score: 0.89\n"
     ]
    }
   ],
   "source": [
    "for X_, y_ in zip([X_1, X_2, X_3], [y_1, y_2, y_3]):\n",
    "    print_cross_val_results(estimator, X_, y_)"
   ]
  },
  {
   "cell_type": "markdown",
   "metadata": {},
   "source": [
    "### First modification -- add random columns"
   ]
  },
  {
   "cell_type": "code",
   "execution_count": 6,
   "metadata": {
    "collapsed": false
   },
   "outputs": [
    {
     "name": "stdout",
     "output_type": "stream",
     "text": [
      "Mean AUC score: 0.77\n"
     ]
    }
   ],
   "source": [
    "X_1_damaged = X_1[:, range(num_columns//2)]\n",
    "\n",
    "print_cross_val_results(estimator, X_1_damaged, y_1)"
   ]
  },
  {
   "cell_type": "markdown",
   "metadata": {},
   "source": [
    "### Second modification -- dimensionality reducion *via* PCA"
   ]
  },
  {
   "cell_type": "code",
   "execution_count": 7,
   "metadata": {
    "collapsed": false
   },
   "outputs": [
    {
     "name": "stdout",
     "output_type": "stream",
     "text": [
      "Mean AUC score: 0.83\n"
     ]
    }
   ],
   "source": [
    "from sklearn.decomposition import PCA\n",
    "\n",
    "\n",
    "X_2_damaged = PCA(n_components=num_columns//2).fit_transform(X_2)\n",
    "\n",
    "print_cross_val_results(estimator, X_2_damaged, y_2)"
   ]
  },
  {
   "cell_type": "markdown",
   "metadata": {},
   "source": [
    "### Third modification -- additional noisy columns, and random rotation"
   ]
  },
  {
   "cell_type": "code",
   "execution_count": 8,
   "metadata": {
    "collapsed": false
   },
   "outputs": [
    {
     "name": "stdout",
     "output_type": "stream",
     "text": [
      "Mean AUC score: 0.79\n"
     ]
    }
   ],
   "source": [
    "from scipy.stats import special_ortho_group\n",
    "\n",
    "\n",
    "rot_mat = special_ortho_group.rvs(num_columns, random_state=42)\n",
    "X_3_damaged = X_3.dot(rot_mat)[:, range(num_columns//2)]\n",
    "\n",
    "print_cross_val_results(estimator, X_3_damaged, y_3)"
   ]
  },
  {
   "cell_type": "code",
   "execution_count": null,
   "metadata": {
    "collapsed": true
   },
   "outputs": [],
   "source": [
    "frames = [X_1_damaged, X_2_damaged, X_3_damaged]\n",
    "ys = [y_1, y_2, y_3]\n",
    "\n",
    "X_1_perm = X_1[:, np.random.choice(range(num_columns), num_columns)]\n",
    "frames = [X_1_damaged, X_2_damaged]\n",
    "ys = [y_1, y_2]\n",
    "\n",
    "frames = [X_2_damaged, X_3_damaged]\n",
    "ys = [y_2, y_3]"
   ]
  },
  {
   "cell_type": "markdown",
   "metadata": {},
   "source": [
    "### Applying the unifying autoencoder"
   ]
  },
  {
   "cell_type": "code",
   "execution_count": 1,
   "metadata": {
    "collapsed": false,
    "scrolled": false
   },
   "outputs": [
    {
     "name": "stderr",
     "output_type": "stream",
     "text": [
      "Using TensorFlow backend.\n"
     ]
    },
    {
     "ename": "NameError",
     "evalue": "name 'frames' is not defined",
     "output_type": "error",
     "traceback": [
      "\u001b[0;31m---------------------------------------------------------------------------\u001b[0m",
      "\u001b[0;31mNameError\u001b[0m                                 Traceback (most recent call last)",
      "\u001b[0;32m<ipython-input-1-422370b6fff7>\u001b[0m in \u001b[0;36m<module>\u001b[0;34m()\u001b[0m\n\u001b[1;32m      5\u001b[0m \u001b[0;34m\u001b[0m\u001b[0m\n\u001b[1;32m      6\u001b[0m \u001b[0mscaler\u001b[0m \u001b[0;34m=\u001b[0m \u001b[0mStandardScaler\u001b[0m\u001b[0;34m(\u001b[0m\u001b[0;34m)\u001b[0m\u001b[0;34m\u001b[0m\u001b[0m\n\u001b[0;32m----> 7\u001b[0;31m \u001b[0mscaled_frames\u001b[0m \u001b[0;34m=\u001b[0m \u001b[0mlist\u001b[0m\u001b[0;34m(\u001b[0m\u001b[0mmap\u001b[0m\u001b[0;34m(\u001b[0m\u001b[0mscaler\u001b[0m\u001b[0;34m.\u001b[0m\u001b[0mfit_transform\u001b[0m\u001b[0;34m,\u001b[0m \u001b[0mframes\u001b[0m\u001b[0;34m)\u001b[0m\u001b[0;34m)\u001b[0m\u001b[0;34m\u001b[0m\u001b[0m\n\u001b[0m\u001b[1;32m      8\u001b[0m \u001b[0;34m\u001b[0m\u001b[0m\n\u001b[1;32m      9\u001b[0m \u001b[0minp_shapes\u001b[0m \u001b[0;34m=\u001b[0m \u001b[0;34m[\u001b[0m\u001b[0mframe\u001b[0m\u001b[0;34m.\u001b[0m\u001b[0mshape\u001b[0m\u001b[0;34m[\u001b[0m\u001b[0;36m1\u001b[0m\u001b[0;34m]\u001b[0m \u001b[0;32mfor\u001b[0m \u001b[0mframe\u001b[0m \u001b[0;32min\u001b[0m \u001b[0mscaled_frames\u001b[0m\u001b[0;34m]\u001b[0m\u001b[0;34m\u001b[0m\u001b[0m\n",
      "\u001b[0;31mNameError\u001b[0m: name 'frames' is not defined"
     ]
    }
   ],
   "source": [
    "from sklearn.preprocessing import StandardScaler\n",
    "from unifying_autoencoder.autoencoder import UnifyingAutoEncoder\n",
    "from sklearn.model_selection import train_test_split\n",
    "\n",
    "\n",
    "scaler = StandardScaler()\n",
    "scaled_frames = list(map(scaler.fit_transform, frames))\n",
    "\n",
    "inp_shapes = [frame.shape[1] for frame in scaled_frames]\n",
    "uniae = UnifyingAutoEncoder(\n",
    "    inp_shapes=inp_shapes,\n",
    "    unifying_dim=100,\n",
    "    num_neurons=40,\n",
    "    num_epochs=5,\n",
    "    num_layers=3,\n",
    ")\n",
    "\n",
    "for i in range(20):\n",
    "    undamaged_frames = uniae.unify(scaled_frames)\n",
    "    X_undamaged = np.concatenate(undamaged_frames)\n",
    "    print_cross_val_results(estimator, X_undamaged, np.concatenate(ys))\n",
    "    uniae.fit(scaled_frames, verbose=0)"
   ]
  },
  {
   "cell_type": "code",
   "execution_count": null,
   "metadata": {
    "collapsed": true
   },
   "outputs": [],
   "source": []
  }
 ],
 "metadata": {
  "kernelspec": {
   "display_name": "daftlearning",
   "language": "python",
   "name": "daftlearning"
  },
  "language_info": {
   "codemirror_mode": {
    "name": "ipython",
    "version": 2
   },
   "file_extension": ".py",
   "mimetype": "text/x-python",
   "name": "python",
   "nbconvert_exporter": "python",
   "pygments_lexer": "ipython2",
   "version": "2.7.10"
  }
 },
 "nbformat": 4,
 "nbformat_minor": 2
}
